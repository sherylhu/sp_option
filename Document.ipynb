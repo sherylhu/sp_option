{
 "cells": [
  {
   "cell_type": "markdown",
   "metadata": {},
   "source": [
    "# 1. Prospect Overview\n",
    "## 1.1. Intention\n",
    "Basket/Spread option pricing.\n",
    "## 1.2. Problem\n",
    "For basket and spread options: There are more than one underlying asset.\n",
    "\n",
    "For BSM model: Lognormal distribution. Lognormal RV sum is neither lognormal nor has analytic distribution.\n",
    "\n",
    "For Normal model: Normal distribution. Normal RV sum is still normal and we can have analytic distribution.\n",
    "## 1.3. Solution\n",
    "We use Monte-Carlo simulation based on BSM model and control variate based on Normal model to price basket/spread options.\n",
    "<img src = 'figure\\1.PNG'>"
   ]
  },
  {
   "cell_type": "markdown",
   "metadata": {},
   "source": [
    "# 2. Notice in Implementation\n",
    "## 2.1. MC Pricing\n",
    "There is no difficulty in MC pricing. We have already done this part in HW3.\n",
    "## 2.2. Analytic Approximations\n",
    "For BSM model: The unit of volatility is same as the rate of return of the asset.\n",
    "\n",
    "For Normal model: The unit of volatility is same as the asset price.\n",
    "\n",
    "Therefore, we need to transfer sigma(bsm) to sigma(normal).\n",
    "\n",
    "In HW3, we simply use the following function:\n",
    "<img src = 'figure\\2.PNG'>\n",
    "However, it is not accurate enough. We can improve the volatility transformation function."
   ]
  },
  {
   "cell_type": "markdown",
   "metadata": {},
   "source": [
    "### Consider only one asset\n",
    "From what we learned in class, implied normal volatility varies with K for constant BSM volatility.\n",
    "<img src = 'figure\\3.PNG'>\n",
    "Therefore, we can use normal volatility of point B instead of point A in the following figure to improve the accurancy of normal volatility.\n",
    "<img src = 'figure\\4.PNG'>\n",
    "That is <img src = 'figure\\5.PNG'>\n",
    "Note that <img src = 'figure\\6.PNG'>"
   ]
  },
  {
   "cell_type": "markdown",
   "metadata": {},
   "source": [
    "### Consider multiple underlying assets\n",
    "<img src = 'figure\\7.PNG'>\n",
    "Note that <img src = 'figure\\8.PNG'>\n",
    "Then we can calculate the overall volatility of the basket/spread option based on the following function.\n",
    "<img src = 'figure\\9.PNG'>\n",
    "And finally we can use the normal model formula to calculate analytic approximations, just like HW3."
   ]
  },
  {
   "cell_type": "markdown",
   "metadata": {},
   "source": [
    "# 3. Basic Idea of the Project\n",
    "The problem of the model above is that S(T) of all assets are RVs.\n",
    "\n",
    "Only based on the fact that their weighted sum equals to K, we will have multiple solutions for S(T).\n",
    "\n",
    "Our goal is to find S(T) of every asset with the largest probability based on the distribution of S(T)."
   ]
  },
  {
   "cell_type": "markdown",
   "metadata": {},
   "source": [
    "# 4. Solution for S(T)\n",
    "<img src = 'figure\\0.PNG'>\n",
    "\n",
    "We try to use Newton iteration method and simulation the solution step by step, hopefully we can find out the solutions!"
   ]
  },
  {
   "cell_type": "markdown",
   "metadata": {},
   "source": [
    "# 5. Pros & Cons\n",
    "Pros: \n",
    "   1. The calculation of volatility is more accurate;\n",
    "   2. Weights of underlying assets can be positive or negative, which can be applied to both spread and basket options\n",
    "\n",
    "\n",
    "Cons:\n",
    "   1. The way to find S(T) is a little complex."
   ]
  },
  {
   "cell_type": "markdown",
   "metadata": {},
   "source": [
    "# 6. Function Test"
   ]
  },
  {
   "cell_type": "code",
   "execution_count": 2,
   "metadata": {
    "collapsed": true
   },
   "outputs": [],
   "source": [
    "import numpy as np\n",
    "from option_models import basket\n",
    "from option_models import basket_normal_volatility as bnv"
   ]
  },
  {
   "cell_type": "code",
   "execution_count": 2,
   "metadata": {
    "collapsed": false
   },
   "outputs": [
    {
     "data": {
      "text/plain": [
       "<module 'option_models.basket_normal_volatility' from 'C:\\\\Users\\\\16012\\\\Documents\\\\Project-team_0001\\\\option_models\\\\basket_normal_volatility.py'>"
      ]
     },
     "execution_count": 2,
     "metadata": {},
     "output_type": "execute_result"
    }
   ],
   "source": [
    "### only run this when you changed the class definition\n",
    "import imp\n",
    "imp.reload(basket)\n",
    "imp.reload(bnv)"
   ]
  },
  {
   "cell_type": "code",
   "execution_count": 3,
   "metadata": {
    "collapsed": false
   },
   "outputs": [
    {
     "name": "stdout",
     "output_type": "stream",
     "text": [
      "mc_bsm\tmc_normal\n",
      "7.0867\t7.0399\n"
     ]
    }
   ],
   "source": [
    "# Function 1 in basket\n",
    "# basket_price_mc(strike, spot, vol, weights, texp, cor_m, intr=0.0, divr=0.0, cp_sign=1, bsm=True, n_samples = 10000)\n",
    "# This is a function for Monte-Carlo price based on BSM model & Normal model \n",
    "\n",
    "# example\n",
    "spot = np.ones(4) * 100\n",
    "vol = np.ones(4) * 0.2\n",
    "weights = np.ones(4) * 0.25\n",
    "divr = np.zeros(4)\n",
    "intr = 0\n",
    "cor_m = 0.0001*np.identity(4) + 0.9999*np.ones((4,4))\n",
    "texp = 1\n",
    "strike = 102\n",
    "\n",
    "# For BSM model, we use BSM volitility and bsm=true.\n",
    "p1 = basket.basket_price_mc(strike, spot, vol, weights, texp, cor_m, intr=intr, divr=divr, cp_sign=1, bsm=True, n_samples = 10000)\n",
    "\n",
    "# For Normal model, we use Normal volitility = vol*spot and bsm=false.\n",
    "p2 = basket.basket_price_mc(strike, spot, vol*spot, weights, texp, cor_m, intr=intr, divr=divr, cp_sign=1, bsm=False, n_samples = 10000)\n",
    "\n",
    "print(\"mc_bsm\\tmc_normal\\n%.4f\\t%.4f\"%(p1,p2))"
   ]
  },
  {
   "cell_type": "code",
   "execution_count": 4,
   "metadata": {
    "collapsed": false
   },
   "outputs": [
    {
     "name": "stdout",
     "output_type": "stream",
     "text": [
      "analytical_normal\n",
      " 7.01840890416\n"
     ]
    }
   ],
   "source": [
    "# Function 2 in basket\n",
    "# basket_price_norm_analytic(strike, spot, vol, weights, texp, cor_m, intr=0.0, divr=0.0, cp_sign=1)\n",
    "# This is a function for analytic value based on Normal model \n",
    "\n",
    "# example\n",
    "spot = np.ones(4) * 100\n",
    "vol = np.ones(4) * 0.2\n",
    "weights = np.ones(4) * 0.25\n",
    "divr = np.zeros(4)\n",
    "intr = 0\n",
    "cor_m = 0.0001*np.identity(4) + 0.9999*np.ones((4,4))\n",
    "texp = 1\n",
    "strike = 102\n",
    "\n",
    "# here volatility use the normal volatility = vol*spot\n",
    "p1 = basket.basket_price_norm_analytic(strike, spot, vol*spot, weights, texp, cor_m, intr=intr, divr=divr, cp_sign=1)\n",
    "print (\"analytical_normal\\n\",p1)"
   ]
  },
  {
   "cell_type": "code",
   "execution_count": null,
   "metadata": {
    "collapsed": true
   },
   "outputs": [],
   "source": []
  },
  {
   "cell_type": "code",
   "execution_count": 5,
   "metadata": {
    "collapsed": false
   },
   "outputs": [
    {
     "name": "stdout",
     "output_type": "stream",
     "text": [
      "[ 20.1999999   19.40180674  19.35859222  19.74608901] \n",
      " [ 20.65854969  20.16748174  20.05615683  20.20950386]\n"
     ]
    }
   ],
   "source": [
    "# function 1 in basket_normal_volatility\n",
    "# basket_normal_volatility(strike, spot, vol, weights, texp, cor_m, intr=0.0, divr=0.0, cp_sign=1)\n",
    "# This function compute the basket_normal_volatility by local volatility model, \\\n",
    "# that is, norm_impvol_k=0.5*(Sk_0+Sk_T)*bsm_norm_k\n",
    "\n",
    "# example\n",
    "spot = np.ones(4) * 100\n",
    "vol = np.ones(4) * 0.2\n",
    "weights1 = np.array([1, 0, 0, 0])\n",
    "weights2 = np.array([0.1, 0.2, 0.3, 0.4])\n",
    "divr = np.zeros(4)\n",
    "intr = 0\n",
    "cor_m = 0.8*np.identity(4) + 0.2*np.ones((4,4))\n",
    "texp = 1\n",
    "strike = 102\n",
    "\n",
    "norm_vol1 = bnv.basket_normal_volatility(strike, spot, vol, weights1, texp, cor_m)\n",
    "norm_vol2 = bnv.basket_normal_volatility(strike, spot, vol, weights2, texp, cor_m)\n",
    "\n",
    "print(norm_vol1, '\\n', norm_vol2)"
   ]
  },
  {
   "cell_type": "code",
   "execution_count": 16,
   "metadata": {
    "collapsed": false
   },
   "outputs": [],
   "source": [
    "# Function 3 in basket\n",
    "# basket_price_mc_cv(strike, spot, vol, weights, texp, cor_m, intr=0.0, divr=0.0, cp_sign=1, norm_vol_method=1,n_samples=10000, seed=8888)\n",
    "# This is a function for BSM model approximation for Control Variate.\n",
    "# If norm_vol_method=1, then norm_vol_method = vol*spot\n",
    "# If norm_vol_method=2, then norm_vol_method = our basket_normal_volatility"
   ]
  },
  {
   "cell_type": "code",
   "execution_count": null,
   "metadata": {
    "collapsed": true
   },
   "outputs": [],
   "source": []
  }
 ],
 "metadata": {
  "kernelspec": {
   "display_name": "Python 3",
   "language": "python",
   "name": "python3"
  },
  "language_info": {
   "codemirror_mode": {
    "name": "ipython",
    "version": 3
   },
   "file_extension": ".py",
   "mimetype": "text/x-python",
   "name": "python",
   "nbconvert_exporter": "python",
   "pygments_lexer": "ipython3",
   "version": "3.6.0"
  }
 },
 "nbformat": 4,
 "nbformat_minor": 2
}
